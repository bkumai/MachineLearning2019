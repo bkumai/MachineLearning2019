{
 "cells": [
  {
   "cell_type": "markdown",
   "metadata": {},
   "source": [
    "## Using URLLIB to access online API"
   ]
  },
  {
   "cell_type": "code",
   "execution_count": 37,
   "metadata": {},
   "outputs": [
    {
     "data": {
      "text/plain": [
       "['Winter Is Coming',\n",
       " 'The Kingsroad',\n",
       " 'Lord Snow',\n",
       " 'Cripples, Bastards, and Broken Things',\n",
       " 'The Wolf and the Lion',\n",
       " 'A Golden Crown',\n",
       " 'You Win or You Die',\n",
       " 'The Pointy End',\n",
       " 'Baelor',\n",
       " 'Fire and Blood']"
      ]
     },
     "execution_count": 37,
     "metadata": {},
     "output_type": "execute_result"
    }
   ],
   "source": [
    "import urllib.request\n",
    "import json\n",
    "\n",
    "url = 'http://www.omdbapi.com/?apikey=a9dd41c5&t=Game%20of%20Thrones&Season=1'\n",
    "data = json.loads(urllib.request.urlopen(url).read().decode('utf8') )\n",
    "data['Episodes']\n",
    "episode_titles = [ data['Episodes'][i]['Title'] for i in range(len( data['Episodes'])) ]\n",
    "episode_titles"
   ]
  }
 ],
 "metadata": {
  "kernelspec": {
   "display_name": "Python [conda env:Anaconda3]",
   "language": "python",
   "name": "conda-env-Anaconda3-py"
  },
  "language_info": {
   "codemirror_mode": {
    "name": "ipython",
    "version": 3
   },
   "file_extension": ".py",
   "mimetype": "text/x-python",
   "name": "python",
   "nbconvert_exporter": "python",
   "pygments_lexer": "ipython3",
   "version": "3.6.5"
  }
 },
 "nbformat": 4,
 "nbformat_minor": 2
}
