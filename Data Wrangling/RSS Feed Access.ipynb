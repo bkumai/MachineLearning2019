{
 "cells": [
  {
   "cell_type": "markdown",
   "metadata": {},
   "source": [
    "## Acessing an RSS feed\n",
    "This notebook shows a simple method to access RSS feeds online using the feedparser module: https://pythonhosted.org/feedparser/index.html\n",
    "\n",
    "Write code to create a dataframe of the top 10 movies from the Netflix Top 100 DVDs and iTunes. Check to see if your feed is well formed. Compile the name of the feed as the souce, the published date, the movie ranking in the list, the movie title, a link to the movie, and the summary. If the published date does not exist in the feed, use the current date. Save your dataframe as a csv. "
   ]
  },
  {
   "cell_type": "code",
   "execution_count": 58,
   "metadata": {},
   "outputs": [],
   "source": [
    "def top_movies(feed):\n",
    "    \n",
    "    top_movies = [feed['entries'][i]['title'] for i in range( len(feed['entries']) )]\n",
    "    \n",
    "    return top_movies"
   ]
  },
  {
   "cell_type": "code",
   "execution_count": 76,
   "metadata": {},
   "outputs": [],
   "source": [
    "import feedparser \n",
    "import pandas as pd \n",
    "\n",
    "RSS_URL = \"https://itunes.apple.com/rss/topmovies/limit=10/xml\"\n",
    "\n",
    "feed = feedparser.parse( RSS_URL)\n",
    "feed.keys() \n",
    "if feed.bozo == 0:\n",
    "#     print( top_movies(feed) )\n",
    "    df = pd.DataFrame(feed['entries'])[['im_name', 'summary','id', 'im_releasedate']]\n",
    "else:\n",
    "    print('RSS Feed is not well formed')\n",
    "\n",
    "df.to_csv('test.csv')"
   ]
  },
  {
   "cell_type": "code",
   "execution_count": 60,
   "metadata": {},
   "outputs": [
    {
     "data": {
      "text/html": [
       "Seasoned musician Jackson Maine (Bradley Cooper) discovers—and falls in love with—struggling artist Ally (Lady Gaga). She has just about given up on her dream to make it big as a singer… until Jack coaxes her into the spotlight. But even as Ally’s career takes off, the personal side of their relationship is breaking down, as Jack fights an ongoing battle with his own internal demons."
      ],
      "text/plain": [
       "<IPython.core.display.HTML object>"
      ]
     },
     "metadata": {},
     "output_type": "display_data"
    }
   ],
   "source": [
    "# demonstration of displaying HTML on jupyter notebook \n",
    "\n",
    "from IPython.display import HTML, display\n",
    "i = 0\n",
    "# print(i, feed.entries[i].description)\n",
    "\n",
    "display(HTML(feed.entries[0].description))\n"
   ]
  }
 ],
 "metadata": {
  "kernelspec": {
   "display_name": "Python [conda env:Anaconda3]",
   "language": "python",
   "name": "conda-env-Anaconda3-py"
  },
  "language_info": {
   "codemirror_mode": {
    "name": "ipython",
    "version": 3
   },
   "file_extension": ".py",
   "mimetype": "text/x-python",
   "name": "python",
   "nbconvert_exporter": "python",
   "pygments_lexer": "ipython3",
   "version": "3.6.5"
  }
 },
 "nbformat": 4,
 "nbformat_minor": 2
}
