{
 "cells": [
  {
   "cell_type": "markdown",
   "metadata": {},
   "source": [
    "This exercise will require you to pull some data from the Qunadl API. Qaundl is currently the most widely used aggregator of financial market data."
   ]
  },
  {
   "cell_type": "markdown",
   "metadata": {},
   "source": [
    "As a first step, you will need to register a free account on the http://www.quandl.com website."
   ]
  },
  {
   "cell_type": "markdown",
   "metadata": {},
   "source": [
    "After you register, you will be provided with a unique API key, that you should store:"
   ]
  },
  {
   "cell_type": "code",
   "execution_count": null,
   "metadata": {
    "collapsed": true
   },
   "outputs": [],
   "source": [
    "# Store the API key as a string - according to PEP8, constants are always named in all upper case\n",
    "API_KEY = ''\n",
    "\n",
    "# BK - NOTE - I have put the key in a file called api_key_secret.json"
   ]
  },
  {
   "cell_type": "markdown",
   "metadata": {},
   "source": [
    "Qaundl has a large number of data sources, but, unfortunately, most of them require a Premium subscription. Still, there are also a good number of free datasets."
   ]
  },
  {
   "cell_type": "markdown",
   "metadata": {},
   "source": [
    "For this mini project, we will focus on equities data from the Frankfurt Stock Exhange (FSE), which is available for free. We'll try and analyze the stock prices of a company called Carl Zeiss Meditec, which manufactures tools for eye examinations, as well as medical lasers for laser eye surgery: https://www.zeiss.com/meditec/int/home.html. The company is listed under the stock ticker AFX_X."
   ]
  },
  {
   "cell_type": "markdown",
   "metadata": {},
   "source": [
    "You can find the detailed Quandl API instructions here: https://docs.quandl.com/docs/time-series"
   ]
  },
  {
   "cell_type": "markdown",
   "metadata": {},
   "source": [
    "While there is a dedicated Python package for connecting to the Quandl API, we would prefer that you use the *requests* package, which can be easily downloaded using *pip* or *conda*. You can find the documentation for the package here: http://docs.python-requests.org/en/master/ "
   ]
  },
  {
   "cell_type": "markdown",
   "metadata": {},
   "source": [
    "Finally, apart from the *requests* package, you are encouraged to not use any third party Python packages, such as *pandas*, and instead focus on what's available in the Python Standard Library (the *collections* module might come in handy: https://pymotw.com/3/collections/).\n",
    "Also, since you won't have access to DataFrames, you are encouraged to us Python's native data structures - preferably dictionaries, though some questions can also be answered using lists.\n",
    "You can read more on these data structures here: https://docs.python.org/3/tutorial/datastructures.html"
   ]
  },
  {
   "cell_type": "markdown",
   "metadata": {},
   "source": [
    "Keep in mind that the JSON responses you will be getting from the API map almost one-to-one to Python's dictionaries. Unfortunately, they can be very nested, so make sure you read up on indexing dictionaries in the documentation provided above."
   ]
  },
  {
   "cell_type": "code",
   "execution_count": 1,
   "metadata": {
    "collapsed": true
   },
   "outputs": [],
   "source": [
    "# First, import the relevant modules\n",
    "import requests\n",
    "import json \n",
    "\n"
   ]
  },
  {
   "cell_type": "code",
   "execution_count": 2,
   "metadata": {
    "collapsed": true
   },
   "outputs": [],
   "source": [
    "# Now, call the Quandl API and pull out a small sample of the data (only one day) to get a glimpse\n",
    "# into the JSON structure that will be returned\n",
    "with open('api_key_secret.json') as key_file:\n",
    "    key = json.load(key_file)\n",
    "  \n",
    "url = 'https://www.quandl.com/api/v3/datasets/FSE/AFX_X/data.json'\n",
    "    \n",
    "params = {'api_key' : key['api_key'], 'start_date': '2017-01-01' , 'end_date': '2017-12-31'}\n",
    "\n",
    "response = requests.get(url,params=params)\n",
    "data = json.loads(response.content)\n",
    "columns = data['dataset_data']['column_names']\n",
    "data = data['dataset_data']['data']"
   ]
  },
  {
   "cell_type": "code",
   "execution_count": 21,
   "metadata": {},
   "outputs": [
    {
     "data": {
      "text/plain": [
       "['Date',\n",
       " 'Open',\n",
       " 'High',\n",
       " 'Low',\n",
       " 'Close',\n",
       " 'Change',\n",
       " 'Traded Volume',\n",
       " 'Turnover',\n",
       " 'Last Price of the Day',\n",
       " 'Daily Traded Units',\n",
       " 'Daily Turnover']"
      ]
     },
     "execution_count": 21,
     "metadata": {},
     "output_type": "execute_result"
    }
   ],
   "source": [
    "# Inspect the JSON structure of the object you created, and take note of how nested it is,\n",
    "# as well as the overall structure\n",
    "columns"
   ]
  },
  {
   "cell_type": "markdown",
   "metadata": {},
   "source": [
    "These are your tasks for this mini project:\n",
    "\n",
    "1. Collect data from the Franfurt Stock Exchange, for the ticker AFX_X, for the whole year 2017 (keep in mind that the date format is YYYY-MM-DD).\n",
    "2. Convert the returned JSON object into a Python dictionary.\n",
    "3. Calculate what the highest and lowest opening prices were for the stock in this period.\n",
    "4. What was the largest change in any one day (based on High and Low price)?\n",
    "5. What was the largest change between any two days (based on Closing Price)?\n",
    "6. What was the average daily trading volume during this year?\n",
    "7. (Optional) What was the median trading volume during this year. (Note: you may need to implement your own function for calculating the median.)"
   ]
  },
  {
   "cell_type": "code",
   "execution_count": 70,
   "metadata": {},
   "outputs": [
    {
     "name": "stdout",
     "output_type": "stream",
     "text": [
      "Highest Opening Price: 53.11\n",
      "Lowest Opening Price: 34.0\n",
      "Largest change in one day: 2.81\n",
      "Largest change between any two days: 2.56\n",
      "Average Daily Trading Volume: 89124.34\n",
      "Median Trading Volume: 76600.00\n"
     ]
    }
   ],
   "source": [
    "opening_price = [data[i][1]  for i in range( len (data)) ] # data[i][1] = Opening price \n",
    "\n",
    "#Calculate what the highest and lowest opening prices were for the stock in this period.\n",
    "highest_opening_price = max( filter(lambda x: x is not None,opening_price))\n",
    "lowest_opening_price = min(   filter(lambda x: x is not None,opening_price))\n",
    "\n",
    "# What was the largest change in any one day (based on High and Low price)?\n",
    "intraday = []\n",
    "for i in range ( len(data)):\n",
    "    intraday.append( data[i][2] - data[i][3])  # High = data[i][2], Low = data[i][3]\n",
    "\n",
    "largest_intraday = max( intraday)\n",
    "\n",
    "#What was the largest change between any two days (based on Closing Price)?\n",
    "dailychange = []\n",
    "for i in range ( 1,len(data)):\n",
    "    dailychange.append( data[i][4] - data[i-1][4])  # Close price = data[i][4]\n",
    "\n",
    "largest_dailychange = max( dailychange)\n",
    "\n",
    "#What was the average daily trading volume during this year?\n",
    "daily_trade_vol = [data[i][6]  for i in range( len (data))] # data[i][6] = Trading Volume\n",
    "avg_daily_trade_vol = sum( daily_trade_vol)/len( daily_trade_vol)  \n",
    "\n",
    "#(Optional) What was the median trading volume during this year.\n",
    "median_trading_volume = sorted(daily_trade_vol)[ len(daily_trade_vol)//2 + 1]\n",
    "\n",
    "print( 'Highest Opening Price: {}'.format( highest_opening_price))\n",
    "print( 'Lowest Opening Price: {}'.format( lowest_opening_price))\n",
    "print( 'Largest change in one day: {0:.2f}'.format( largest_intraday))\n",
    "print( 'Largest change between any two days: {0:.2f}'.format( largest_dailychange))\n",
    "print( 'Average Daily Trading Volume: {0:.2f}'.format( avg_daily_trade_vol))\n",
    "print( 'Median Trading Volume: {0:.2f}'.format( median_trading_volume))"
   ]
  }
 ],
 "metadata": {
  "kernelspec": {
   "display_name": "Python [default]",
   "language": "python",
   "name": "python3"
  },
  "language_info": {
   "codemirror_mode": {
    "name": "ipython",
    "version": 3
   },
   "file_extension": ".py",
   "mimetype": "text/x-python",
   "name": "python",
   "nbconvert_exporter": "python",
   "pygments_lexer": "ipython3",
   "version": "3.6.5"
  }
 },
 "nbformat": 4,
 "nbformat_minor": 2
}
