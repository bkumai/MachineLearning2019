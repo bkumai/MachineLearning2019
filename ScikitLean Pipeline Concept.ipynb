{
 "cells": [
  {
   "cell_type": "code",
   "execution_count": 19,
   "metadata": {},
   "outputs": [
    {
     "data": {
      "text/plain": [
       "(0.9736842105263158, 0.9736842105263158)"
      ]
     },
     "execution_count": 19,
     "metadata": {},
     "output_type": "execute_result"
    }
   ],
   "source": [
    "from sklearn.linear_model import LogisticRegression \n",
    "from sklearn.datasets import load_iris\n",
    "from sklearn.model_selection import train_test_split \n",
    "from sklearn.metrics import recall_score\n",
    "\n",
    "X,y =  load_iris(return_X_y = True)\n",
    "train_X , test_X , train_y , test_y = train_test_split(X,y )\n",
    "\n",
    "reg = LogisticRegression()\n",
    "reg.fit(train_X,train_y)\n",
    "y_pred = reg.predict(test_X)\n",
    "accuracy = reg.score( test_X, test_y)\n",
    "recall = recall_score(test_y,y_pred, average = 'micro')\n",
    "accuracy, recall"
   ]
  }
 ],
 "metadata": {
  "kernelspec": {
   "display_name": "Python [conda env:Anaconda3]",
   "language": "python",
   "name": "conda-env-Anaconda3-py"
  },
  "language_info": {
   "codemirror_mode": {
    "name": "ipython",
    "version": 3
   },
   "file_extension": ".py",
   "mimetype": "text/x-python",
   "name": "python",
   "nbconvert_exporter": "python",
   "pygments_lexer": "ipython3",
   "version": "3.6.5"
  }
 },
 "nbformat": 4,
 "nbformat_minor": 2
}
